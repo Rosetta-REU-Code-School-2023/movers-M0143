{
  "cells": [
    {
      "cell_type": "markdown",
      "metadata": {
        "id": "-btteU1rDnxE"
      },
      "source": [
        "Before you turn this problem in, make sure everything runs as expected. First, **restart the kernel** (in the menubar, select Kernel$\\rightarrow$Restart) and then **run all cells** (in the menubar, select Cell$\\rightarrow$Run All).\n",
        "\n",
        "Make sure you fill in any place that says `YOUR CODE HERE` or \"YOUR ANSWER HERE\", as well as your name and collaborators below:"
      ]
    },
    {
      "cell_type": "code",
      "execution_count": null,
      "metadata": {
        "id": "9HzKWejYDnxG"
      },
      "outputs": [],
      "source": [
        "NAME = \"Mohini Khedekar\"\n",
        "COLLABORATORS = \"\""
      ]
    },
    {
      "cell_type": "markdown",
      "metadata": {
        "id": "rekYpE8LDnxH"
      },
      "source": [
        "---"
      ]
    },
    {
      "cell_type": "markdown",
      "metadata": {
        "id": "XatBKBkKDnxH"
      },
      "source": [
        "# Mover Lab\n",
        "In this lab, you will learn to use Movers to manipulate poses. "
      ]
    },
    {
      "cell_type": "code",
      "execution_count": 1,
      "metadata": {
        "id": "Q_1a0Q2uDnxI",
        "colab": {
          "base_uri": "https://localhost:8080/"
        },
        "outputId": "4b1ad868-c1d9-451b-bc8b-246a23f6b298"
      },
      "outputs": [
        {
          "output_type": "stream",
          "name": "stdout",
          "text": [
            "Looking in indexes: https://pypi.org/simple, https://us-python.pkg.dev/colab-wheels/public/simple/\n",
            "Collecting pyrosettacolabsetup\n",
            "  Downloading pyrosettacolabsetup-1.0.6-py3-none-any.whl (4.7 kB)\n",
            "Installing collected packages: pyrosettacolabsetup\n",
            "Successfully installed pyrosettacolabsetup-1.0.6\n",
            "Mounted at /content/google_drive\n",
            "Looking for compatible PyRosetta wheel file at google-drive/PyRosetta/colab.bin/wheels...\n",
            "Found compatible wheel: /content/google_drive/MyDrive/PyRosetta/colab.bin/wheels//content/google_drive/MyDrive/PyRosetta/colab.bin/wheels/pyrosetta-2023.19+release.d7aa7f94e8b-cp310-cp310-linux_x86_64.whl\n",
            "Looking in indexes: https://pypi.org/simple, https://us-python.pkg.dev/colab-wheels/public/simple/\n",
            "\n",
            "\n",
            "PyRosetta-4 2023 [Rosetta PyRosetta4.MinSizeRel.python310.ubuntu 2023.19+release.d7aa7f94e8be5e9d5110d37f167c2a7afd30c530 2023-05-08T16:22:16] retrieved from: http://www.pyrosetta.org\n",
            "(C) Copyright Rosetta Commons Member Institutions. Created in JHU by Sergey Lyskov and PyRosetta Team.\n",
            "core.init: Checking for fconfig files in pwd and ./rosetta/flags\n",
            "core.init: Rosetta version: PyRosetta4.MinSizeRel.python310.ubuntu r348 2023.19+release.d7aa7f94e8b d7aa7f94e8be5e9d5110d37f167c2a7afd30c530 http://www.pyrosetta.org 2023-05-08T16:22:16\n",
            "core.init: command: PyRosetta -ex1 -ex2aro -database /usr/local/lib/python3.10/dist-packages/pyrosetta/database\n",
            "basic.random.init_random_generator: 'RNG device' seed mode, using '/dev/urandom', seed=-1507535793 seed_offset=0 real_seed=-1507535793\n",
            "basic.random.init_random_generator: RandomGenerator:init: Normal mode, seed=-1507535793 RG_type=mt19937\n"
          ]
        }
      ],
      "source": [
        "import sys\n",
        "if 'google.colab' in sys.modules:\n",
        "  !pip install pyrosettacolabsetup\n",
        "  import pyrosettacolabsetup\n",
        "  pyrosettacolabsetup.mount_pyrosetta_install()\n",
        "import pyrosetta\n",
        "pyrosetta.init()\n"
      ]
    },
    {
      "cell_type": "code",
      "execution_count": null,
      "metadata": {
        "id": "o4e6wR3wDnxJ"
      },
      "outputs": [],
      "source": [
        "# cd into the right directory here:"
      ]
    },
    {
      "cell_type": "code",
      "source": [
        "%cd /content/google_drive/MyDrive/codeschool2023"
      ],
      "metadata": {
        "colab": {
          "base_uri": "https://localhost:8080/"
        },
        "id": "Cf1Y_xMa-b3t",
        "outputId": "e26c4aad-3909-4c1d-f76a-723d6cb365ee"
      },
      "execution_count": 7,
      "outputs": [
        {
          "output_type": "stream",
          "name": "stdout",
          "text": [
            "/content/google_drive/MyDrive/codeschool2023\n"
          ]
        }
      ]
    },
    {
      "cell_type": "markdown",
      "metadata": {
        "id": "m66xVr34DnxJ"
      },
      "source": [
        "Let's load the structure 2WPT, which is a complex of protein Im2 and colicin E9 DNase. Researchers have introduced various mutations to the interface to study the changes of binding free energy."
      ]
    },
    {
      "cell_type": "code",
      "execution_count": 8,
      "metadata": {
        "id": "oy0kessLDnxK",
        "colab": {
          "base_uri": "https://localhost:8080/"
        },
        "outputId": "f7681ee1-5b2a-4497-8571-7ffc158b2819"
      },
      "outputs": [
        {
          "output_type": "stream",
          "name": "stdout",
          "text": [
            "core.import_pose.import_pose: File '/content/google_drive/MyDrive/codeschool2023/2wpt.pdb' automatically determined to be of type PDB\n",
            "core.conformation.Conformation: [ WARNING ] missing heavyatom:  OXT on residue GLN:CtermProteinFull 82\n",
            "core.conformation.Conformation: [ WARNING ] missing heavyatom:  OXT on residue LYS:CtermProteinFull 198\n"
          ]
        }
      ],
      "source": [
        "pose = pyrosetta.rosetta.core.import_pose.pose_from_file(\"/content/google_drive/MyDrive/codeschool2023/2wpt.pdb\")"
      ]
    },
    {
      "cell_type": "markdown",
      "metadata": {
        "id": "mm6-F9csDnxK"
      },
      "source": [
        "Visualize this wild type version of the complex in PyMOL. Color the structure by chains. How many proteins are there?"
      ]
    },
    {
      "cell_type": "code",
      "execution_count": null,
      "metadata": {
        "id": "1BjNBjLuDnxL"
      },
      "outputs": [],
      "source": [
        "# type your answers here and take a screenshot of your PyMOL session to submit \n",
        "#screenshot uploaded to github\n",
        "#there are two chains that are not connected to each other and hence there are two proteins"
      ]
    },
    {
      "cell_type": "markdown",
      "metadata": {
        "id": "KLVTudgkDnxM"
      },
      "source": [
        "## Backbone movers\n",
        "Let's try to modify the protein backbone. The simplest way to sample backbone conformations is introducing random perturbations. The SmallMover makes small independent random perturbations of the phi and psi torsion angles of random residues. It uses the rama score to ensure that only favorable backbone torsion angles are being selected. Let's initialize a SmallMover and let it introduce 10 random perturbations."
      ]
    },
    {
      "cell_type": "code",
      "execution_count": 9,
      "metadata": {
        "id": "3yHA_51vDnxM"
      },
      "outputs": [],
      "source": [
        "#small_mover is a kind of mover function \n",
        "small_mover = pyrosetta.rosetta.protocols.simple_moves.SmallMover()\n",
        "\n",
        "#the below code specifies the number of perturbations\n",
        "small_mover.nmoves(10)\n",
        "\n",
        "small_mover.apply(pose)"
      ]
    },
    {
      "cell_type": "code",
      "execution_count": 12,
      "metadata": {
        "colab": {
          "base_uri": "https://localhost:8080/"
        },
        "id": "FCw33azg6Zzq",
        "outputId": "2b845e1b-ddc0-4b30-ab8c-8b69d3bad20d"
      },
      "outputs": [
        {
          "output_type": "execute_result",
          "data": {
            "text/plain": [
              "True"
            ]
          },
          "metadata": {},
          "execution_count": 12
        }
      ],
      "source": [
        "# now dump this new pose to a PDB file and once again visualize in PyMOL (take a screenshot to submit)\n",
        "# name it 2wpt_small.pdb\n",
        "\n",
        "pose.dump_pdb(\"smallmoveroutput_file.pdb\")"
      ]
    },
    {
      "cell_type": "markdown",
      "metadata": {
        "id": "H4zYh5GwDnxN"
      },
      "source": [
        "In PyMol, compare the structures before and after perturbation. Do you find anything weird? Yes, the C-terminus changes much more than the N-terminus. This is called the lever effect in backbone sampling. The change at a residue will propagate to all its downstream residues. Because of the lever-arm effect, backbone perturbations are not local and bad contacts can be easily introduced.\n",
        "\n",
        "The ShearMover deals with the lever effect. Instead of independently sampling backbone torsions, it changes torsions of two consecutive residues together in a way that the downstream lever effect is reduced. Let's import a fresh pose, initialize a ShearMover and let it introduce 100 perturbations."
      ]
    },
    {
      "cell_type": "code",
      "execution_count": 14,
      "metadata": {
        "id": "RndQ8OF1DnxN",
        "colab": {
          "base_uri": "https://localhost:8080/"
        },
        "outputId": "9834ebe8-519a-4e21-8f0c-237c1338b53e"
      },
      "outputs": [
        {
          "output_type": "stream",
          "name": "stdout",
          "text": [
            "core.import_pose.import_pose: File '/content/google_drive/MyDrive/codeschool2023/2wpt.pdb' automatically determined to be of type PDB\n",
            "core.conformation.Conformation: [ WARNING ] missing heavyatom:  OXT on residue GLN:CtermProteinFull 82\n",
            "core.conformation.Conformation: [ WARNING ] missing heavyatom:  OXT on residue LYS:CtermProteinFull 198\n"
          ]
        },
        {
          "output_type": "execute_result",
          "data": {
            "text/plain": [
              "True"
            ]
          },
          "metadata": {},
          "execution_count": 14
        }
      ],
      "source": [
        "pose = pyrosetta.rosetta.core.import_pose.pose_from_file('/content/google_drive/MyDrive/codeschool2023/2wpt.pdb')\n",
        "shear_mover = pyrosetta.rosetta.protocols.simple_moves.ShearMover()\n",
        "shear_mover.nmoves(100)\n",
        "shear_mover.apply(pose)\n",
        "\n",
        "# now dump this new pose to a PDB file and once again visualize in PyMOL (take a screenshot to submit)\n",
        "# name it 2wpt_shear.pdb\n",
        "pose.dump_pdb(\"shearmoveroutput_file.pdb\")\n",
        "\n"
      ]
    },
    {
      "cell_type": "markdown",
      "metadata": {
        "id": "xQ844DN9DnxO"
      },
      "source": [
        "Now you should see that the lever-arm effect is reduced, but not completely gone. \n",
        "\n",
        "\"Backrub\" is one method to realize true local sampling. The trade off is that backbone bond angles are changed slightly. Initialize a BackrubMover and apply 100 times."
      ]
    },
    {
      "cell_type": "code",
      "execution_count": 16,
      "metadata": {
        "id": "MokF9sJ-DnxO",
        "colab": {
          "base_uri": "https://localhost:8080/"
        },
        "outputId": "25c314de-213b-467d-a5f5-3ff7263c5934"
      },
      "outputs": [
        {
          "output_type": "stream",
          "name": "stdout",
          "text": [
            "core.import_pose.import_pose: File '/content/google_drive/MyDrive/codeschool2023/2wpt.pdb' automatically determined to be of type PDB\n",
            "core.conformation.Conformation: [ WARNING ] missing heavyatom:  OXT on residue GLN:CtermProteinFull 82\n",
            "core.conformation.Conformation: [ WARNING ] missing heavyatom:  OXT on residue LYS:CtermProteinFull 198\n",
            "core.mm.MMBondAngleLibrary: MM bond angle sets added fully assigned: 604; wildcard: 0 and 1 virtual parameter.\n",
            "basic.io.database: Database file opened: sampling/branch_angle/branch_angle_1.txt\n",
            "basic.io.database: Database file opened: sampling/branch_angle/branch_angle_2.txt\n",
            "protocols.backrub.BackrubMover: Segment lengths: 3-34 atoms\n",
            "protocols.backrub.BackrubMover: Main chain pivot atoms: CA\n",
            "protocols.backrub.BackrubMover: Adding backrub segments for residues 1-200\n",
            "protocols.backrub.BackrubMover: Total Segments Added: 1778\n"
          ]
        },
        {
          "output_type": "execute_result",
          "data": {
            "text/plain": [
              "True"
            ]
          },
          "metadata": {},
          "execution_count": 16
        }
      ],
      "source": [
        "pose = pyrosetta.rosetta.core.import_pose.pose_from_file('/content/google_drive/MyDrive/codeschool2023/2wpt.pdb')\n",
        "br_mover = pyrosetta.rosetta.protocols.backrub.BackrubMover()\n",
        "for i in range(100):\n",
        "    br_mover.apply(pose)\n",
        "\n",
        "# now dump this new pose to a PDB file and once again visualize in PyMOL (take a screenshot to submit)\n",
        "# name it 2wpt_backrub.pdb\n",
        "\n",
        "pose.dump_pdb(\"brmover_file.pdb\")"
      ]
    },
    {
      "cell_type": "markdown",
      "metadata": {
        "id": "_biSDjurDnxP"
      },
      "source": [
        "Now you can see that the perturbations are evenly distributed throughout the structure."
      ]
    },
    {
      "cell_type": "markdown",
      "metadata": {
        "id": "Vm5TBXrCDnxP"
      },
      "source": [
        "## Mutate residues\n",
        "Protein designers constantly explore conformation and sequence spaces of proteins. You already learned methods to sample the backbone conformation space, now it's time to consider introducing mutations.\n",
        "\n",
        "A previous study showed that the N34V R38T mutations on chain A lowers binding free energy by -2.60 kcal/mol. Let's introduce these two mutations to our structure. Again, import a fresh pose."
      ]
    },
    {
      "cell_type": "code",
      "execution_count": 17,
      "metadata": {
        "id": "5idCXg2JDnxP",
        "colab": {
          "base_uri": "https://localhost:8080/"
        },
        "outputId": "544cc325-05b7-4e57-a2cf-1dc39803f138"
      },
      "outputs": [
        {
          "output_type": "stream",
          "name": "stdout",
          "text": [
            "core.import_pose.import_pose: File '/content/google_drive/MyDrive/codeschool2023/2wpt.pdb' automatically determined to be of type PDB\n",
            "core.conformation.Conformation: [ WARNING ] missing heavyatom:  OXT on residue GLN:CtermProteinFull 82\n",
            "core.conformation.Conformation: [ WARNING ] missing heavyatom:  OXT on residue LYS:CtermProteinFull 198\n"
          ]
        }
      ],
      "source": [
        "pose = pyrosetta.rosetta.core.import_pose.pose_from_file('/content/google_drive/MyDrive/codeschool2023/2wpt.pdb')"
      ]
    },
    {
      "cell_type": "markdown",
      "metadata": {
        "id": "FSBOJc_aDnxP"
      },
      "source": [
        "In Rosetta, residues in a pose are numbered from 1 to N which is the total number of residues. This indexing system is different from what you see from a PDB file. For example, the first lysine in our structure has Rosetta index 1 but its pdb index is A4. In order to introduce mutations, we need to first figure out the Rosetta indices of the residues of our interest. As we have done before, we will turn to the PDBInfo object attached to a pose."
      ]
    },
    {
      "cell_type": "code",
      "execution_count": 18,
      "metadata": {
        "id": "1kOm9jAFDnxP",
        "colab": {
          "base_uri": "https://localhost:8080/"
        },
        "outputId": "e242c899-7e94-47b9-c232-99289b632b51"
      },
      "outputs": [
        {
          "output_type": "stream",
          "name": "stdout",
          "text": [
            "31\n",
            "35\n"
          ]
        }
      ],
      "source": [
        "print(pose.pdb_info().pdb2pose('A', 34))\n",
        "print(pose.pdb_info().pdb2pose('A', 38))"
      ]
    },
    {
      "cell_type": "markdown",
      "metadata": {
        "id": "hYWU1nguDnxP"
      },
      "source": [
        "Use the MutateResidue mover to introduce mutations N34V R38T."
      ]
    },
    {
      "cell_type": "code",
      "execution_count": 19,
      "metadata": {
        "id": "Ph2CksRIDnxR",
        "colab": {
          "base_uri": "https://localhost:8080/"
        },
        "outputId": "976b5e6f-10c3-488e-fb9e-185c290af8e2"
      },
      "outputs": [
        {
          "output_type": "execute_result",
          "data": {
            "text/plain": [
              "True"
            ]
          },
          "metadata": {},
          "execution_count": 19
        }
      ],
      "source": [
        "mutater = pyrosetta.rosetta.protocols.simple_moves.MutateResidue()\n",
        "\n",
        "mutater.set_target(31)\n",
        "mutater.set_res_name('VAL')\n",
        "mutater.apply(pose)\n",
        "\n",
        "mutater.set_target(35)\n",
        "mutater.set_res_name('THR')\n",
        "mutater.apply(pose)\n",
        "\n",
        "# now dump this new pose to a PDB file and once again visualize in PyMOL (take a screenshot to submit)\n",
        "# name it 2wpt_mutate.pdb\n",
        "pose.dump_pdb(\"2wpt_mutate.pdb\")\n",
        "\n"
      ]
    },
    {
      "cell_type": "markdown",
      "metadata": {
        "id": "cNgWz6CtDnxR"
      },
      "source": [
        "Now you should be able to see these mutations in PyMol. Now you learned movers that can help you expore the backbone and sequence spaces. You may have realized that the side chain conformations, which are very important, are not sampled. Side chain sampling will be covered in later labs."
      ]
    },
    {
      "cell_type": "markdown",
      "metadata": {
        "id": "aHLeLyaXDnxR"
      },
      "source": [
        "## Exercises\n",
        "1. Use the functions you learned from the previous lecture to score the poses before and after mutation. What is the change of the score value? Does it match the experimentally measured -2.60 kcal/mol? What score terms change significantly? What 10 residues' scores change the most? Do their changes make sense?\n",
        "\n",
        "(If you have `emap1` and `emap2`, you can calculate the difference as follows:\n",
        "```\n",
        "diff_emap = EnergyMap(emap1)\n",
        "temp_emap = diff_emap # create a reference to the same object\n",
        "temp_emap -= emap2\n",
        "print(temp_emap) # temp_emap is now None. This is the \"half broken\" part\n",
        "print(diff_emap) # diff_emap has been modified\n",
        "```\n",
        "\n",
        "1. Redo the mutagenesis and ddG calculation on backbone perturbed structures. How much do the results change? Why?\n",
        "\n",
        "2. Generate a backbone ensemble made of 20 structures with your favorate backbone sampling method. Redo the mutagenesis and ddG calculation on each structure and take the mean/meadian/mimimal score. How much do the results change? Why?\n",
        "\n",
        "3. The above ddG analysis is very crude and inaccurate. What improvements should be introduced to make it better?"
      ]
    },
    {
      "cell_type": "code",
      "execution_count": 22,
      "metadata": {
        "deletable": false,
        "id": "tiwqFJxyDnxS",
        "nbgrader": {
          "cell_type": "code",
          "checksum": "37d948a3d7643abe8d7adb0d720d4b55",
          "grade": true,
          "grade_id": "cell-435f4bfb81cbae06",
          "locked": false,
          "points": 0,
          "schema_version": 3,
          "solution": true
        },
        "colab": {
          "base_uri": "https://localhost:8080/",
          "height": 240
        },
        "outputId": "c5144f17-e486-48a6-f7a9-d6ff8e68b6c4"
      },
      "outputs": [
        {
          "output_type": "error",
          "ename": "NameError",
          "evalue": "ignored",
          "traceback": [
            "\u001b[0;31m---------------------------------------------------------------------------\u001b[0m",
            "\u001b[0;31mNameError\u001b[0m                                 Traceback (most recent call last)",
            "\u001b[0;32m<ipython-input-22-370d2ba93a7b>\u001b[0m in \u001b[0;36m<cell line: 1>\u001b[0;34m()\u001b[0m\n\u001b[0;32m----> 1\u001b[0;31m \u001b[0mdiff_emap\u001b[0m \u001b[0;34m=\u001b[0m \u001b[0mEnergyMap\u001b[0m\u001b[0;34m(\u001b[0m\u001b[0memap1\u001b[0m\u001b[0;34m)\u001b[0m\u001b[0;34m\u001b[0m\u001b[0;34m\u001b[0m\u001b[0m\n\u001b[0m\u001b[1;32m      2\u001b[0m \u001b[0mtemp_emap\u001b[0m \u001b[0;34m=\u001b[0m \u001b[0mdiff_emap\u001b[0m \u001b[0;31m# create a reference to the same object\u001b[0m\u001b[0;34m\u001b[0m\u001b[0;34m\u001b[0m\u001b[0m\n\u001b[1;32m      3\u001b[0m \u001b[0mtemp_emap\u001b[0m \u001b[0;34m-=\u001b[0m \u001b[0memap2\u001b[0m\u001b[0;34m\u001b[0m\u001b[0;34m\u001b[0m\u001b[0m\n\u001b[1;32m      4\u001b[0m \u001b[0mprint\u001b[0m\u001b[0;34m(\u001b[0m\u001b[0mtemp_emap\u001b[0m\u001b[0;34m)\u001b[0m \u001b[0;31m# temp_emap is now None. This is the \"half broken\" part\u001b[0m\u001b[0;34m\u001b[0m\u001b[0;34m\u001b[0m\u001b[0m\n\u001b[1;32m      5\u001b[0m \u001b[0mprint\u001b[0m\u001b[0;34m(\u001b[0m\u001b[0mdiff_emap\u001b[0m\u001b[0;34m)\u001b[0m \u001b[0;31m# diff_emap has been modified\u001b[0m\u001b[0;34m\u001b[0m\u001b[0;34m\u001b[0m\u001b[0m\n",
            "\u001b[0;31mNameError\u001b[0m: name 'EnergyMap' is not defined"
          ]
        }
      ],
      "source": [
        "\n",
        "\n",
        "diff_emap = EnergyMap(emap1)\n",
        "temp_emap = diff_emap # create a reference to the same object\n",
        "temp_emap -= emap2\n",
        "print(temp_emap) # temp_emap is now None. This is the \"half broken\" part\n",
        "print(diff_emap) # diff_emap has been modified"
      ]
    },
    {
      "cell_type": "code",
      "execution_count": null,
      "metadata": {
        "deletable": false,
        "id": "o8da-3nQDnxS",
        "nbgrader": {
          "cell_type": "code",
          "checksum": "06afa68c1a38f6b554a0432854ae6c8a",
          "grade": true,
          "grade_id": "cell-25c2e1487e8ca68b",
          "locked": false,
          "points": 0,
          "schema_version": 3,
          "solution": true
        }
      },
      "outputs": [],
      "source": [
        "# YOUR CODE HERE\n",
        "raise NotImplementedError()"
      ]
    },
    {
      "cell_type": "code",
      "execution_count": null,
      "metadata": {
        "deletable": false,
        "id": "NUbHzQOYDnxS",
        "nbgrader": {
          "cell_type": "code",
          "checksum": "b599381ee90ecfb936969b6bf9031566",
          "grade": true,
          "grade_id": "cell-d25f5c9053444535",
          "locked": false,
          "points": 0,
          "schema_version": 3,
          "solution": true
        }
      },
      "outputs": [],
      "source": [
        "# YOUR CODE HERE\n",
        "raise NotImplementedError()"
      ]
    },
    {
      "cell_type": "code",
      "execution_count": null,
      "metadata": {
        "deletable": false,
        "id": "_wdmGn3UDnxS",
        "nbgrader": {
          "cell_type": "code",
          "checksum": "0a8a717c531b6329fbfef5eee8c0d6e9",
          "grade": true,
          "grade_id": "cell-717b13f568c710ef",
          "locked": false,
          "points": 0,
          "schema_version": 3,
          "solution": true
        }
      },
      "outputs": [],
      "source": [
        "# YOUR CODE HERE\n",
        "raise NotImplementedError()"
      ]
    },
    {
      "cell_type": "code",
      "execution_count": null,
      "metadata": {
        "deletable": false,
        "id": "Xvy0BWhGDnxT",
        "nbgrader": {
          "cell_type": "code",
          "checksum": "d52a6190800686ae9a19eb4ee8ee6690",
          "grade": true,
          "grade_id": "cell-e9c6349c815ed0ef",
          "locked": false,
          "points": 0,
          "schema_version": 3,
          "solution": true
        }
      },
      "outputs": [],
      "source": [
        "# YOUR CODE HERE\n",
        "raise NotImplementedError()"
      ]
    }
  ],
  "metadata": {
    "colab": {
      "provenance": []
    },
    "kernelspec": {
      "display_name": "Python 3",
      "language": "python",
      "name": "python3"
    },
    "language_info": {
      "codemirror_mode": {
        "name": "ipython",
        "version": 3
      },
      "file_extension": ".py",
      "mimetype": "text/x-python",
      "name": "python",
      "nbconvert_exporter": "python",
      "pygments_lexer": "ipython3",
      "version": "3.7.7"
    }
  },
  "nbformat": 4,
  "nbformat_minor": 0
}